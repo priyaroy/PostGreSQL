{
 "cells": [
  {
   "cell_type": "code",
   "execution_count": 1,
   "metadata": {},
   "outputs": [
    {
     "name": "stdout",
     "output_type": "stream",
     "text": [
      "\n",
      "The following command must be run outside of the IPython shell:\n",
      "\n",
      "    $ pip install psycopg2\n",
      "\n",
      "The Python package manager (pip) can only be used from outside of IPython.\n",
      "Please reissue the `pip` command in a separate terminal or command prompt.\n",
      "\n",
      "See the Python documentation for more information on how to install packages:\n",
      "\n",
      "    https://docs.python.org/3/installing/\n"
     ]
    }
   ],
   "source": [
    "pip install psycopg2"
   ]
  },
  {
   "cell_type": "code",
   "execution_count": 2,
   "metadata": {},
   "outputs": [],
   "source": [
    "import psycopg2 as pg2"
   ]
  },
  {
   "cell_type": "code",
   "execution_count": 3,
   "metadata": {},
   "outputs": [],
   "source": [
    "import numpy as np"
   ]
  },
  {
   "cell_type": "code",
   "execution_count": 26,
   "metadata": {},
   "outputs": [],
   "source": [
    "conn = pg2.connect(host='localhost', database='dvdrental',user='postgres',password='indrika1')"
   ]
  },
  {
   "cell_type": "code",
   "execution_count": 27,
   "metadata": {},
   "outputs": [],
   "source": [
    "cur = conn.cursor()"
   ]
  },
  {
   "cell_type": "code",
   "execution_count": 28,
   "metadata": {},
   "outputs": [],
   "source": [
    "cur.execute('SELECT * FROM payment')"
   ]
  },
  {
   "cell_type": "code",
   "execution_count": 29,
   "metadata": {},
   "outputs": [],
   "source": [
    "data=cur.fetchmany(10)"
   ]
  },
  {
   "cell_type": "code",
   "execution_count": 30,
   "metadata": {},
   "outputs": [
    {
     "data": {
      "text/plain": [
       "(10, 6)"
      ]
     },
     "execution_count": 30,
     "metadata": {},
     "output_type": "execute_result"
    }
   ],
   "source": [
    "data2=np.array(data)\n",
    "data2.shape"
   ]
  },
  {
   "cell_type": "code",
   "execution_count": 31,
   "metadata": {},
   "outputs": [
    {
     "data": {
      "text/plain": [
       "Decimal('7.99')"
      ]
     },
     "execution_count": 31,
     "metadata": {},
     "output_type": "execute_result"
    }
   ],
   "source": [
    "data2[0,4]"
   ]
  },
  {
   "cell_type": "code",
   "execution_count": 32,
   "metadata": {},
   "outputs": [
    {
     "ename": "ProgrammingError",
     "evalue": "database \"temp_data1\" already exists\n",
     "output_type": "error",
     "traceback": [
      "\u001b[1;31m---------------------------------------------------------------------------\u001b[0m",
      "\u001b[1;31mProgrammingError\u001b[0m                          Traceback (most recent call last)",
      "\u001b[1;32m<ipython-input-32-c29c36ca5b05>\u001b[0m in \u001b[0;36m<module>\u001b[1;34m()\u001b[0m\n\u001b[0;32m     11\u001b[0m \u001b[1;33m\u001b[0m\u001b[0m\n\u001b[0;32m     12\u001b[0m \u001b[0mcur\u001b[0m \u001b[1;33m=\u001b[0m \u001b[0mconn_new\u001b[0m\u001b[1;33m.\u001b[0m\u001b[0mcursor\u001b[0m\u001b[1;33m(\u001b[0m\u001b[1;33m)\u001b[0m\u001b[1;33m\u001b[0m\u001b[0m\n\u001b[1;32m---> 13\u001b[1;33m \u001b[0mcur\u001b[0m\u001b[1;33m.\u001b[0m\u001b[0mexecute\u001b[0m\u001b[1;33m(\u001b[0m\u001b[1;34m'CREATE DATABASE Temp_data1'\u001b[0m\u001b[1;33m)\u001b[0m \u001b[1;31m# This creates a new\u001b[0m\u001b[1;33m\u001b[0m\u001b[0m\n\u001b[0m\u001b[0;32m     14\u001b[0m                                          \u001b[1;31m#database called Temp_data\u001b[0m\u001b[1;33m\u001b[0m\u001b[1;33m\u001b[0m\u001b[0m\n\u001b[0;32m     15\u001b[0m \u001b[1;33m\u001b[0m\u001b[0m\n",
      "\u001b[1;31mProgrammingError\u001b[0m: database \"temp_data1\" already exists\n"
     ]
    }
   ],
   "source": [
    "#Create a new database with python\n",
    "\n",
    "#First close the previous connection\n",
    "conn.close()\n",
    "\n",
    "#Create a new database\n",
    "\n",
    "conn_new = pg2.connect(dbname='postgres', user='postgres')\n",
    "\n",
    "conn_new.set_session(autocommit = True)\n",
    "\n",
    "cur = conn_new.cursor()\n",
    "cur.execute('CREATE DATABASE Temp_data1') # This creates a new \n",
    "                                         #database called Temp_data\n",
    "\n",
    "#Close connection\n",
    "\n",
    "conn_new.close()\n"
   ]
  },
  {
   "cell_type": "code",
   "execution_count": 33,
   "metadata": {},
   "outputs": [],
   "source": [
    "#Open the new database, temp_data.  \n",
    "\n",
    "conn = pg2.connect(database='temp_data1',user='postgres')\n"
   ]
  },
  {
   "cell_type": "code",
   "execution_count": 34,
   "metadata": {},
   "outputs": [],
   "source": [
    "# Add a cursor and create a new table\n",
    "\n",
    "cur = conn.cursor()\n",
    "\n",
    "query1='''Create Table Temperature_target2 (\n",
    "            entry integer\n",
    "            , Instrument_name varchar(20)\n",
    "            , Day int\n",
    "            , Time_minutes int\n",
    "            , Temp float\n",
    "          )'''\n",
    "cur.execute(query1)"
   ]
  },
  {
   "cell_type": "code",
   "execution_count": 37,
   "metadata": {},
   "outputs": [],
   "source": [
    "#Add content to the table by reading a textfile\n",
    "\n",
    "#First be sure that the csv file has the right permissions.\n",
    "#On linux, use chmod 777\n",
    "#On Windows cmd, use cacls myfile.txt /g everyone:f\n",
    "\n",
    "query2 = '''\n",
    "        COPY Temperature_target2 \n",
    "        FROM '/users/priyashree/Documents/PostGreSQL/temp_data/Day2.csv' \n",
    "        DELIMITER ','\n",
    "        CSV;\n",
    "        '''\n",
    "cur.execute(query2)"
   ]
  },
  {
   "cell_type": "code",
   "execution_count": 38,
   "metadata": {},
   "outputs": [
    {
     "data": {
      "text/plain": [
       "[(0, ' Condenser', 2, 0, 20.3),\n",
       " (1, ' Target', 2, 2, 22.0),\n",
       " (2, ' Target', 2, 7, 22.1),\n",
       " (3, ' Condenser', 2, 3, 19.9),\n",
       " (4, ' Target', 2, 0, 21.8),\n",
       " (5, ' Condenser', 2, 7, 20.5),\n",
       " (6, ' Condenser', 2, 6, 20.3)]"
      ]
     },
     "execution_count": 38,
     "metadata": {},
     "output_type": "execute_result"
    }
   ],
   "source": [
    "#read the data from the newly created table\n",
    "\n",
    "query3 = '''\n",
    "          SELECT * from Temperature_target2\n",
    "          '''\n",
    "\n",
    "cur.execute(query3)\n",
    "cur.fetchall()"
   ]
  },
  {
   "cell_type": "code",
   "execution_count": 39,
   "metadata": {},
   "outputs": [],
   "source": [
    "#Read all csv files from a directory\n",
    "\n",
    "#First, create a new table\n",
    "\n",
    "query4 = '''Create Table Temp_target_allDays_v2 (\n",
    "            entry integer\n",
    "            , Instrument_name varchar(20)\n",
    "            , Day int\n",
    "            , Time_minutes int\n",
    "            , Temp float\n",
    "          )'''\n",
    "cur.execute(query4)\n"
   ]
  },
  {
   "cell_type": "code",
   "execution_count": 42,
   "metadata": {
    "scrolled": true
   },
   "outputs": [
    {
     "name": "stdout",
     "output_type": "stream",
     "text": [
      "['Day1.csv', 'Day2.csv']\n"
     ]
    },
    {
     "data": {
      "text/plain": [
       "[(0, 'Target', 3, 1, 22.2),\n",
       " (0, 'Target', 3, 1, 22.2),\n",
       " (0, ' Condenser', 1, 0, 20.1),\n",
       " (1, ' Target', 1, 3, 22.1),\n",
       " (2, ' Target', 1, 5, 22.0),\n",
       " (3, ' Condenser', 1, 3, 20.3),\n",
       " (4, ' Target', 1, 6, 21.9),\n",
       " (5, ' Condenser', 1, 5, 19.8),\n",
       " (6, ' Condenser', 1, 6, 20.2),\n",
       " (0, ' Condenser', 2, 0, 20.3),\n",
       " (1, ' Target', 2, 2, 22.0),\n",
       " (2, ' Target', 2, 7, 22.1),\n",
       " (3, ' Condenser', 2, 3, 19.9),\n",
       " (4, ' Target', 2, 0, 21.8),\n",
       " (5, ' Condenser', 2, 7, 20.5),\n",
       " (6, ' Condenser', 2, 6, 20.3)]"
      ]
     },
     "execution_count": 42,
     "metadata": {},
     "output_type": "execute_result"
    }
   ],
   "source": [
    "#Next, read all csv files\n",
    "\n",
    "import os\n",
    "\n",
    "folder_path = '/users/priyashree/Documents/PostGreSQL/temp_data/'\n",
    "\n",
    "query5 = '''\n",
    "          COPY Temp_target_allDays_v2\n",
    "          FROM %(file_path)s\n",
    "          DELIMITER ','\n",
    "          CSV;\n",
    "          '''\n",
    "\n",
    "#Make a list of filenames in the folder_path\n",
    "fnames = os.listdir(folder_path)\n",
    "\n",
    "#Read all files with csv extension inside folder_path\n",
    "\n",
    "print(fnames)\n",
    "\n",
    "\n",
    "for file in fnames:\n",
    "    if file.endswith(\".csv\"):\n",
    "        #print(folder_path+file)\n",
    "        cur.execute(query5, {'file_path':folder_path+file})\n",
    "\n",
    "#Fetch all data from the newly created table\n",
    "cur.execute('select * from Temp_target_allDays_v2')\n",
    "cur.fetchall()  "
   ]
  },
  {
   "cell_type": "code",
   "execution_count": 43,
   "metadata": {},
   "outputs": [
    {
     "data": {
      "text/plain": [
       "[(0, 'Target', 3, 1, 22.2),\n",
       " (0, 'Target', 3, 1, 22.2),\n",
       " (0, ' Condenser', 1, 0, 20.1),\n",
       " (1, ' Target', 1, 3, 22.1),\n",
       " (2, ' Target', 1, 5, 22.0),\n",
       " (3, ' Condenser', 1, 3, 20.3),\n",
       " (4, ' Target', 1, 6, 21.9),\n",
       " (5, ' Condenser', 1, 5, 19.8),\n",
       " (6, ' Condenser', 1, 6, 20.2),\n",
       " (0, ' Condenser', 2, 0, 20.3),\n",
       " (1, ' Target', 2, 2, 22.0),\n",
       " (2, ' Target', 2, 7, 22.1),\n",
       " (3, ' Condenser', 2, 3, 19.9),\n",
       " (4, ' Target', 2, 0, 21.8),\n",
       " (5, ' Condenser', 2, 7, 20.5),\n",
       " (6, ' Condenser', 2, 6, 20.3),\n",
       " (0, 'Target', 3, 1, 22.2)]"
      ]
     },
     "execution_count": 43,
     "metadata": {},
     "output_type": "execute_result"
    }
   ],
   "source": [
    "# add a new entry to Table Temp_target_allDays_v2\n",
    "\n",
    "query6 = '''\n",
    "          insert into Temp_target_allDays_v2\n",
    "          \n",
    "          (entry, Instrument_name, Day, Time_minutes, Temp)\n",
    "          \n",
    "          values (0, 'Target', 3, 1, 22.2)\n",
    "          \n",
    "          '''\n",
    "\n",
    "cur.execute(query6)\n",
    "cur.execute('select * from Temp_target_allDays_v2')\n",
    "cur.fetchall() "
   ]
  },
  {
   "cell_type": "code",
   "execution_count": 44,
   "metadata": {},
   "outputs": [
    {
     "data": {
      "text/plain": [
       "[(0, ' Condenser', 1, 0, 20.1),\n",
       " (1, ' Target', 1, 3, 22.1),\n",
       " (2, ' Target', 1, 5, 22.0),\n",
       " (3, ' Condenser', 1, 3, 20.3),\n",
       " (5, ' Condenser', 1, 5, 19.8),\n",
       " (6, ' Condenser', 1, 6, 20.2),\n",
       " (4, ' Target', 1, 6, 21.89)]"
      ]
     },
     "execution_count": 44,
     "metadata": {},
     "output_type": "execute_result"
    }
   ],
   "source": [
    "# Edit existing entry of the Table Temp_target_allDays_v2\n",
    "#Edit entry # 4 from day 1\n",
    "\n",
    "query7 = '''\n",
    "         update Temp_target_allDays_v2\n",
    "         set Temp = 21.89\n",
    "         where (Day=1 and entry=4);\n",
    "         '''\n",
    "cur.execute(query7)\n",
    "cur.execute('select * from Temp_target_allDays_v2 where Day=1')\n",
    "cur.fetchall()\n"
   ]
  },
  {
   "cell_type": "code",
   "execution_count": 45,
   "metadata": {},
   "outputs": [],
   "source": [
    "#Close the connection to the database at the end\n",
    "#Otherwise, certain operations will be locked until the \n",
    "#connection is severed. \n",
    "\n",
    "cur.close()\n",
    "conn.close()"
   ]
  },
  {
   "cell_type": "code",
   "execution_count": null,
   "metadata": {},
   "outputs": [],
   "source": []
  }
 ],
 "metadata": {
  "kernelspec": {
   "display_name": "Python 3",
   "language": "python",
   "name": "python3"
  },
  "language_info": {
   "codemirror_mode": {
    "name": "ipython",
    "version": 3
   },
   "file_extension": ".py",
   "mimetype": "text/x-python",
   "name": "python",
   "nbconvert_exporter": "python",
   "pygments_lexer": "ipython3",
   "version": "3.6.5"
  }
 },
 "nbformat": 4,
 "nbformat_minor": 2
}
