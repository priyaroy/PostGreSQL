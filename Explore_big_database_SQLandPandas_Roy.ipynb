{
 "cells": [
  {
   "cell_type": "code",
   "execution_count": null,
   "metadata": {},
   "outputs": [],
   "source": [
    "######################################################################\n",
    "#Description:\n",
    "#This exercise shows the usefulness of using sql to add selective data\n",
    "#(only data of interest) to a pandas dataframe. This saves a lot of memory.\n",
    "\n",
    "#Here I am performing exploratory data analysis on a 'dvdrental' database\n",
    "#which I downloaded during an udemy course on SQL.\n",
    "#The exercises show here were not a part of the course, rather something\n",
    "#that I learnt out of curiosity."
   ]
  },
  {
   "cell_type": "code",
   "execution_count": 1,
   "metadata": {},
   "outputs": [
    {
     "name": "stdout",
     "output_type": "stream",
     "text": [
      "\n",
      "The following command must be run outside of the IPython shell:\n",
      "\n",
      "    $ pip install psycopg2\n",
      "\n",
      "The Python package manager (pip) can only be used from outside of IPython.\n",
      "Please reissue the `pip` command in a separate terminal or command prompt.\n",
      "\n",
      "See the Python documentation for more information on how to install packages:\n",
      "\n",
      "    https://docs.python.org/3/installing/\n"
     ]
    }
   ],
   "source": [
    "#pip install psycopg2"
   ]
  },
  {
   "cell_type": "code",
   "execution_count": 66,
   "metadata": {},
   "outputs": [],
   "source": [
    "import psycopg2 as pg2"
   ]
  },
  {
   "cell_type": "code",
   "execution_count": 105,
   "metadata": {},
   "outputs": [],
   "source": [
    "import numpy as np\n",
    "import matplotlib.pyplot as plt\n",
    "import pandas as pd"
   ]
  },
  {
   "cell_type": "code",
   "execution_count": 92,
   "metadata": {},
   "outputs": [],
   "source": [
    "conn = pg2.connect(host='localhost', database='dvdrental',user='postgres',password='indrika1')"
   ]
  },
  {
   "cell_type": "code",
   "execution_count": 93,
   "metadata": {},
   "outputs": [],
   "source": [
    "cur = conn.cursor()"
   ]
  },
  {
   "cell_type": "code",
   "execution_count": 110,
   "metadata": {},
   "outputs": [
    {
     "name": "stdout",
     "output_type": "stream",
     "text": [
      "[[ 1 64]\n",
      " [ 2 66]\n",
      " [ 3 60]\n",
      " [ 4 57]\n",
      " [ 5 58]\n",
      " [ 6 68]\n",
      " [ 7 62]\n",
      " [ 8 69]\n",
      " [ 9 73]\n",
      " [10 61]\n",
      " [11 56]\n",
      " [12 51]\n",
      " [13 63]\n",
      " [14 61]\n",
      " [15 74]\n",
      " [16 57]]\n"
     ]
    }
   ],
   "source": [
    "#Explore how many movies were sold in each category\n",
    "\n",
    "cur.execute('SELECT category_id, count(film_id) FROM film_category group by category_id order by category_id')\n",
    "data=np.array(cur.fetchall())\n",
    "print(data)\n",
    "\n",
    "#plot the data\n",
    "\n",
    "#plt.plot(data[:,0], data[:,1], 'r.', ms=6)\n",
    "#plt.show()"
   ]
  },
  {
   "cell_type": "code",
   "execution_count": 146,
   "metadata": {},
   "outputs": [
    {
     "name": "stdout",
     "output_type": "stream",
     "text": [
      "min month in data (year is 2007 for full data) :  2.0\n",
      "max month in data (year is 2007 for full data) :  5.0\n",
      "   customer_id first_name last_name  address_id  total_amount  month\n",
      "0          148    Eleanor      Hunt         152        100.78    4.0\n",
      "1          522     Arnold    Havens         528         97.81    4.0\n",
      "2          470     Gordon    Allard         475         96.83    4.0\n",
      "3          137     Rhonda   Kennedy         141         96.81    4.0\n",
      "4          144      Clara      Shaw         148         93.82    4.0\n",
      "5          459      Tommy   Collazo         464         89.82    4.0\n",
      "6          526       Karl      Seal         532         89.80    4.0\n",
      "7          257     Marsha   Douglas         262         88.82    4.0\n",
      "8          295      Daisy     Bates         300         88.81    4.0\n",
      "9          148    Eleanor      Hunt         152         87.82    3.0\n"
     ]
    }
   ],
   "source": [
    "##############################################################################\n",
    "### Find which customers paid the most for dvdrental in the last three months\n",
    "#############################################################################\n",
    "data = pd.read_sql(\"\"\"\n",
    "                   select \n",
    "                          customer.customer_id, first_name, last_name, address_id,\n",
    "                          sum(payment.amount) as total_amount, \n",
    "                          extract(month from payment.payment_date) as month\n",
    "                    from \n",
    "                          customer\n",
    "                    inner join \n",
    "                          payment on customer.customer_id = payment.customer_id \n",
    "                    group by \n",
    "                          month, customer.customer_id\n",
    "                    order by \n",
    "                          total_amount desc;\n",
    "                    \"\"\", conn)\n",
    "\n",
    "print(\"min month in data (year is 2007 for full data) : \", min(data[\"month\"]))\n",
    "print(\"max month in data (year is 2007 for full data) : \", max(data[\"month\"]))\n",
    "\n",
    "print(data.head(10))"
   ]
  },
  {
   "cell_type": "code",
   "execution_count": 148,
   "metadata": {},
   "outputs": [
    {
     "name": "stdout",
     "output_type": "stream",
     "text": [
      "Information of highest paying customer in month 3 of year 2007:\n",
      "   customer_id first_name last_name  address_id  total_amount  month\n",
      "9          148    Eleanor      Hunt         152         87.82    3.0\n",
      "\n",
      "\n",
      "Information of highest paying customer in month 4 of year 2007:\n",
      "   customer_id first_name last_name  address_id  total_amount  month\n",
      "0          148    Eleanor      Hunt         152        100.78    4.0\n",
      "\n",
      "\n",
      "Information of highest paying customer in month 5 of year 2007:\n",
      "      customer_id first_name last_name  address_id  total_amount  month\n",
      "1562           60    Mildred    Bailey          64          9.98    5.0\n",
      "\n",
      "\n"
     ]
    }
   ],
   "source": [
    "#Print the data of the customers who paid the max amount in last 3 months\n",
    "\n",
    "for i in range(3,6):\n",
    "    df_month = data[(data[\"month\"]==i)]\n",
    "    df_max = df_month[df_month[\"total_amount\"]==max(df_month[\"total_amount\"])]\n",
    "    \n",
    "    print(\"Information of highest paying customer in month\", i, \"of year 2007:\")\n",
    "    print(df_max.head(1))\n",
    "    print(\"\\n\")\n",
    "    \n",
    "    "
   ]
  },
  {
   "cell_type": "code",
   "execution_count": null,
   "metadata": {},
   "outputs": [],
   "source": []
  }
 ],
 "metadata": {
  "kernelspec": {
   "display_name": "Python 3",
   "language": "python",
   "name": "python3"
  },
  "language_info": {
   "codemirror_mode": {
    "name": "ipython",
    "version": 3
   },
   "file_extension": ".py",
   "mimetype": "text/x-python",
   "name": "python",
   "nbconvert_exporter": "python",
   "pygments_lexer": "ipython3",
   "version": "3.6.5"
  }
 },
 "nbformat": 4,
 "nbformat_minor": 2
}
